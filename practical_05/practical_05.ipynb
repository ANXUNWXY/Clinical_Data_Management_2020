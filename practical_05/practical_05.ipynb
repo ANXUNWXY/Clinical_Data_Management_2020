{
 "cells": [
  {
   "cell_type": "markdown",
   "metadata": {},
   "source": [
    "### Practice for Python\n",
    "\n",
    "This time you are going to write Python code yourself, performing data analysis and visualisation using Python and its libraries. You are going to read and plot Covid-19 data, comparing trends between different countries."
   ]
  },
  {
   "cell_type": "code",
   "execution_count": null,
   "metadata": {},
   "outputs": [],
   "source": [
    "# Import libraries\n",
    "import os\n",
    "import urllib.request\n",
    "import numpy as np\n",
    "import pandas as pd\n",
    "import matplotlib.pyplot as plt\n",
    "import matplotlib.dates as mdates"
   ]
  },
  {
   "cell_type": "markdown",
   "metadata": {},
   "source": [
    "### 1. Download the latest Covid-19 data from John Hopkins Univeristy repository.\n",
    "\n",
    "To understand more about this dataset, please refer to: https://github.com/CSSEGISandData/COVID-19"
   ]
  },
  {
   "cell_type": "code",
   "execution_count": null,
   "metadata": {},
   "outputs": [],
   "source": [
    "# The URL for Covid-19 statistics\n",
    "URL = 'https://raw.githubusercontent.com/CSSEGISandData/COVID-19/master/csse_covid_19_data/csse_covid_19_time_series/'\n",
    "f = '/time_series_covid19_confirmed_global.csv'\n",
    "\n",
    "# Download csv files for confirmed case, death and recovered case data\n",
    "print('Downloading csv files for confirmed case, death and recovered case data ...')\n",
    "for f in ['time_series_covid19_confirmed_global.csv',\n",
    "          'time_series_covid19_deaths_global.csv',\n",
    "          'time_series_covid19_recovered_global.csv']:\n",
    "    urllib.request.urlretrieve(URL + f, f)\n",
    "\n",
    "# Download the csv file for country profiles\n",
    "print('Downloading the csv file for country profiles ...')\n",
    "URL = 'https://raw.githubusercontent.com/CSSEGISandData/COVID-19/master/csse_covid_19_data/'\n",
    "f = 'UID_ISO_FIPS_LookUp_Table.csv'\n",
    "urllib.request.urlretrieve(URL + f, f)"
   ]
  },
  {
   "cell_type": "markdown",
   "metadata": {},
   "source": [
    "### 2. Read and show the confirmed cases for United Kingdom.\n",
    "\n",
    "#### 2.1 Read the confirmed case csv file using Python pandas, print out its information."
   ]
  },
  {
   "cell_type": "code",
   "execution_count": null,
   "metadata": {},
   "outputs": [],
   "source": []
  },
  {
   "cell_type": "markdown",
   "metadata": {},
   "source": [
    "#### 2.2 Select the UK Covid-19 data.\n",
    "\n",
    "Note that there are several rows of UK data. We only analyse the whole UK data, not the regional data. For the whole UK data, 'Province/State' is NaN."
   ]
  },
  {
   "cell_type": "code",
   "execution_count": null,
   "metadata": {},
   "outputs": [],
   "source": []
  },
  {
   "cell_type": "markdown",
   "metadata": {},
   "source": [
    "#### 2.3 Plot the cummulative confirmed cases in the UK by date."
   ]
  },
  {
   "cell_type": "code",
   "execution_count": null,
   "metadata": {},
   "outputs": [],
   "source": []
  },
  {
   "cell_type": "markdown",
   "metadata": {},
   "source": [
    "#### 2.4 Plot the daily confirmed new cases in the UK by date."
   ]
  },
  {
   "cell_type": "code",
   "execution_count": null,
   "metadata": {},
   "outputs": [],
   "source": []
  },
  {
   "cell_type": "markdown",
   "metadata": {},
   "source": [
    "#### 2.5 Smooth the daily case curve using a moving average window of 7 days."
   ]
  },
  {
   "cell_type": "code",
   "execution_count": null,
   "metadata": {},
   "outputs": [],
   "source": []
  },
  {
   "cell_type": "markdown",
   "metadata": {},
   "source": [
    "#### 2.6 Check the curve on https://coronavirus.data.gov.uk/cases. Does your curve look similar?"
   ]
  },
  {
   "cell_type": "markdown",
   "metadata": {},
   "source": [
    "#### 2.7 Compare the daily confirmed new case curves of several countries, including United Kingdom, France, Italy and US. You may also add countries that you are interested in. Smooth using a 7-day moving average window."
   ]
  },
  {
   "cell_type": "code",
   "execution_count": null,
   "metadata": {},
   "outputs": [],
   "source": []
  },
  {
   "cell_type": "markdown",
   "metadata": {},
   "source": [
    "#### 2.8 Plot the curves of daily new cases (7-day moving averaged) per 100,000 population of these countries.\n",
    "You can find the population information in the file UID_ISO_FIPS_LookUp_Table.csv."
   ]
  },
  {
   "cell_type": "code",
   "execution_count": null,
   "metadata": {},
   "outputs": [],
   "source": []
  }
 ],
 "metadata": {
  "kernelspec": {
   "display_name": "Python 3",
   "language": "python",
   "name": "python3"
  },
  "language_info": {
   "codemirror_mode": {
    "name": "ipython",
    "version": 3
   },
   "file_extension": ".py",
   "mimetype": "text/x-python",
   "name": "python",
   "nbconvert_exporter": "python",
   "pygments_lexer": "ipython3",
   "version": "3.8.3"
  }
 },
 "nbformat": 4,
 "nbformat_minor": 4
}
