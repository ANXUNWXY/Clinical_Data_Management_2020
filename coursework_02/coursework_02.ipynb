{
 "cells": [
  {
   "cell_type": "markdown",
   "metadata": {},
   "source": [
    "# Coursework 2: Clinical image classification\n",
    "\n",
    "In this coursework, you will work on a clinical imaging dataset. The dataset comes from [ISIC (International Skin Imaging Collaboration) 2016 Challenge](https://challenge.isic-archive.com). It consists of 900 skin lesion images, categorised into two classes: malignant lesions (melanoma) and benign lesions, as illustrated here.\n",
    "\n",
    "![](melanoma_vs_benign.jpg)\n",
    "\n",
    "To faciliate this coursework, we have pre-processed the images for you, including resizing the original images to a standard size of 128 by 128, splitting into a training set and a test set, so you only need to focus on the classification task. Your task here is to train a model that can classify between the malignant and benign lesions."
   ]
  },
  {
   "cell_type": "code",
   "execution_count": null,
   "metadata": {},
   "outputs": [],
   "source": [
    "# Load the libraries (provided)\n",
    "# Note: you can import more libraries\n",
    "import os\n",
    "import imageio\n",
    "import matplotlib.pyplot as plt\n",
    "import seaborn as sns\n",
    "import pandas as pd\n",
    "import numpy as np\n",
    "import sklearn\n",
    "from sklearn import neighbors, metrics"
   ]
  },
  {
   "cell_type": "markdown",
   "metadata": {},
   "source": [
    "## 1. Read and visualise data.\n",
    "\n",
    "#### 1.1 Load the spreadsheets training.csv and test.csv. (5 points)\n",
    "\n",
    "Print the first few lines. Check how many benign and malignant samples there are in training and test sets respectively."
   ]
  },
  {
   "cell_type": "code",
   "execution_count": null,
   "metadata": {},
   "outputs": [],
   "source": []
  },
  {
   "cell_type": "markdown",
   "metadata": {},
   "source": [
    "#### 1.2 From the training set, load five benign cases and display the images. (5 points)\n",
    "\n",
    "The images are compressed in files with suffix \".zip\". You need to decompress them first."
   ]
  },
  {
   "cell_type": "code",
   "execution_count": null,
   "metadata": {},
   "outputs": [],
   "source": []
  },
  {
   "cell_type": "markdown",
   "metadata": {},
   "source": [
    "#### 1.3 From the training set, load five malignant cases and display the images. (5 points)"
   ]
  },
  {
   "cell_type": "code",
   "execution_count": null,
   "metadata": {},
   "outputs": [],
   "source": []
  },
  {
   "cell_type": "markdown",
   "metadata": {},
   "source": [
    "#### 1.4 Pick one image and show the three channels (R-G-B) of the image separately. (5 points)\n",
    "\n",
    "Hint: An RGB image is an array of size X x Y x C, where C = 3, standing for respectively red, green and blue channels. You can use `Reds_r`, `Greens_r`, `Blues_r` as the cmap (colormap) for each channel when you plot the images."
   ]
  },
  {
   "cell_type": "code",
   "execution_count": null,
   "metadata": {},
   "outputs": [],
   "source": []
  },
  {
   "cell_type": "markdown",
   "metadata": {},
   "source": [
    "#### 1.5 Plot the intensity histograms for the three colour channels of this image. (5 points)"
   ]
  },
  {
   "cell_type": "code",
   "execution_count": null,
   "metadata": {},
   "outputs": [],
   "source": []
  },
  {
   "cell_type": "markdown",
   "metadata": {},
   "source": [
    "## 2. Perform image classification.\n",
    "\n",
    "Here, you need to train a classification model on the training set, apply it to the test set and then evaluate the performance.\n",
    "\n",
    "#### 2.1 Prepare the training data, using variable names X_train and y_train for training images and training labels respectively. (12 points)\n",
    "\n",
    "Convert benign class into label 0 and malignant class into label 1. After preparing the data, print out the dimensions of X_train and y_train."
   ]
  },
  {
   "cell_type": "code",
   "execution_count": null,
   "metadata": {},
   "outputs": [],
   "source": []
  },
  {
   "cell_type": "markdown",
   "metadata": {},
   "source": [
    "#### 2.2 Similarly, prepare the test data, using variable names X_test and y_test for test images and test labels. Print out the shapes of X_test and y_test. (8 points)"
   ]
  },
  {
   "cell_type": "code",
   "execution_count": null,
   "metadata": {},
   "outputs": [],
   "source": []
  },
  {
   "cell_type": "markdown",
   "metadata": {},
   "source": [
    "#### 2.3 Train a classification model on X_train and y_train. (25 points)\n",
    "\n",
    "You are free to use any classification models, including\n",
    "\n",
    "* [K nearest neighbour classifier](https://scikit-learn.org/stable/modules/classes.html#module-sklearn.neighbors)\n",
    "* [Random forest classifier](https://scikit-learn.org/stable/modules/classes.html#module-sklearn.ensemble)\n",
    "* [Support vector machine classifier](https://scikit-learn.org/stable/modules/classes.html#module-sklearn.svm)\n",
    "* or any other models\n",
    "\n",
    "You only need to submit the implementation and results for one model."
   ]
  },
  {
   "cell_type": "code",
   "execution_count": null,
   "metadata": {},
   "outputs": [],
   "source": []
  },
  {
   "cell_type": "markdown",
   "metadata": {},
   "source": [
    "#### 2.4 Apply the trained model onto the test images X_test to predict the labels. (5 points)"
   ]
  },
  {
   "cell_type": "code",
   "execution_count": null,
   "metadata": {},
   "outputs": [],
   "source": []
  },
  {
   "cell_type": "markdown",
   "metadata": {},
   "source": [
    "#### 2.5 Evaluate the classification performance on the test set. (5 points)\n",
    "\n",
    "Show metrics such as the confusion matrix, accuracy, sensitivity and specificity."
   ]
  },
  {
   "cell_type": "code",
   "execution_count": null,
   "metadata": {},
   "outputs": [],
   "source": []
  },
  {
   "cell_type": "markdown",
   "metadata": {},
   "source": [
    "#### 2.6 Open discussion: How can you improve the prediction performance for skin lesion images? (10 points)"
   ]
  },
  {
   "cell_type": "markdown",
   "metadata": {},
   "source": []
  }
 ],
 "metadata": {
  "kernelspec": {
   "display_name": "Python 3",
   "language": "python",
   "name": "python3"
  },
  "language_info": {
   "codemirror_mode": {
    "name": "ipython",
    "version": 3
   },
   "file_extension": ".py",
   "mimetype": "text/x-python",
   "name": "python",
   "nbconvert_exporter": "python",
   "pygments_lexer": "ipython3",
   "version": "3.8.3"
  }
 },
 "nbformat": 4,
 "nbformat_minor": 4
}
