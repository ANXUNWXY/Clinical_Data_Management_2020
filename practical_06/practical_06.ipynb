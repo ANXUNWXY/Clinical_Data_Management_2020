{
 "cells": [
  {
   "cell_type": "markdown",
   "metadata": {},
   "source": [
    "# Practical: Data privacy\n",
    "\n",
    "## 1. Privacy in clinical data.\n",
    "\n",
    "In this practical, you will be given a clinical patient record dataset: [Diabetes 130-US hospitals for years 1999-2008 Data Set](https://archive.ics.uci.edu/ml/datasets/Diabetes+130-US+hospitals+for+years+1999-2008). You can find detail of the dataset in Table 1 of this paper:\n",
    "\n",
    "[1] Beata Strack et al. Impact of HbA1c Measurement on Hospital Readmission Rates: Analysis of 70,000 Clinical Database Patient Records, BioMed Research International, 2014.\n",
    "\n",
    "Your first task is to check whether this dataset has been properly anonymised in accordance with regulations. In this example, we follow the Health Insurance Portability and Accountability Act of 1996 (HIPAA) Privacy Rule."
   ]
  },
  {
   "cell_type": "code",
   "execution_count": null,
   "metadata": {},
   "outputs": [],
   "source": [
    "# Import libaries\n",
    "import numpy as np\n",
    "import pandas as pd\n",
    "import time"
   ]
  },
  {
   "cell_type": "markdown",
   "metadata": {},
   "source": [
    "### 1.1 Load the data from the csv file \"diabetes_data.csv\", display the first few rows and all the column names of the dataframe.\n",
    "\n",
    "The csv file is currently zipped. You need to decompress the zip file first.\n",
    "\n",
    "You can read Table 1 in the original [paper](https://www.hindawi.com/journals/bmri/2014/781670/) to understand the meaning of the column names in the csv file."
   ]
  },
  {
   "cell_type": "code",
   "execution_count": null,
   "metadata": {},
   "outputs": [],
   "source": []
  },
  {
   "cell_type": "markdown",
   "metadata": {},
   "source": [
    "### 1.2 How many subjects and how many features are there in the data set?"
   ]
  },
  {
   "cell_type": "code",
   "execution_count": null,
   "metadata": {},
   "outputs": [],
   "source": []
  },
  {
   "cell_type": "markdown",
   "metadata": {},
   "source": [
    "### 1.3 Check whether this dataset has been properly anonymised according to the [HIPPA safe harbor method](https://www.hhs.gov/hipaa/for-professionals/privacy/special-topics/de-identification/index.html#safeharborguidance).\n",
    "\n",
    "The safe harbor method requires the following identifiers of an individual to be removed:\n",
    "\n",
    "(A) Names\n",
    "\n",
    "(B) All geographic subdivisions smaller than a state, including street address, city, county, precinct, ZIP code, and their equivalent geocodes, except for the initial three digits of the ZIP code if, according to the current publicly available data from the Bureau of the Census:\n",
    "(1) The geographic unit formed by combining all ZIP codes with the same three initial digits contains more than 20,000 people; and\n",
    "(2) The initial three digits of a ZIP code for all such geographic units containing 20,000 or fewer people is changed to 000\n",
    "\n",
    "(C) All elements of dates (except year) for dates that are directly related to an individual, including birth date, admission date, discharge date, death date, and all ages over 89 and all elements of dates (including year) indicative of such age, except that such ages and elements may be aggregated into a single category of age 90 or older\n",
    "\n",
    "(D) Telephone numbers\n",
    "\n",
    "(L) Vehicle identifiers and serial numbers, including license plate numbers\n",
    "\n",
    "(E) Fax numbers\n",
    "\n",
    "(M) Device identifiers and serial numbers\n",
    "\n",
    "(F) Email addresses\n",
    "\n",
    "(N) Web Universal Resource Locators (URLs)\n",
    "\n",
    "(G) Social security numbers\n",
    "\n",
    "(O) Internet Protocol (IP) addresses\n",
    "\n",
    "(H) Medical record numbers\n",
    "\n",
    "(P) Biometric identifiers, including finger and voice prints\n",
    "\n",
    "(I) Health plan beneficiary numbers\n",
    "\n",
    "(Q) Full-face photographs and any comparable images\n",
    "\n",
    "(J) Account numbers\n",
    "\n",
    "(R) Any other unique identifying number, characteristic, or code, except as permitted by paragraph (c) of this section [Paragraph (c) is presented below in the section “Re-identification”]; and\n",
    "\n",
    "(K) Certificate/license numbers"
   ]
  },
  {
   "cell_type": "markdown",
   "metadata": {},
   "source": [
    "### Anwser:"
   ]
  },
  {
   "cell_type": "markdown",
   "metadata": {},
   "source": []
  },
  {
   "cell_type": "markdown",
   "metadata": {},
   "source": [
    "### 1.4 Data matching with ethnicity, gender and age\n",
    "\n",
    "Suppose from another source, we know that a patient named Adam is AfricanAmerican, Male, age band = \\[70-80).\n",
    "\n",
    "Using ethnicity, gender and age information, how many records can you find in this dataset that have matched features? How long does it take for you to find the matched data?"
   ]
  },
  {
   "cell_type": "code",
   "execution_count": null,
   "metadata": {},
   "outputs": [],
   "source": []
  },
  {
   "cell_type": "markdown",
   "metadata": {},
   "source": [
    "### 1.5 Data matching with ethnicity, gender, age and disease information\n",
    "\n",
    "Suppose we also know that this patient has diag\\_1 = '410'. Here, diag\\_1 denotes the primary diagnosis code and the value 410 refers to acute myocardial infarction according to the ICD-9 code.\n",
    "\n",
    "Using ethnicity, gender, age and disease information, how many records can you find in this dataset that have matched features? "
   ]
  },
  {
   "cell_type": "code",
   "execution_count": null,
   "metadata": {},
   "outputs": [],
   "source": []
  },
  {
   "cell_type": "markdown",
   "metadata": {},
   "source": [
    "### 1.6 What is the anonymisation used for age in this dataset?\n",
    "\n",
    "### Answer:"
   ]
  },
  {
   "cell_type": "markdown",
   "metadata": {},
   "source": []
  },
  {
   "cell_type": "markdown",
   "metadata": {},
   "source": [
    "### 1.7 If we store the accurate age information (integer) in this dataset, instead of using banding, how many records can you find with matched information (ethnicity, gender, age and disease)?\n",
    "\n",
    "### Answer:"
   ]
  },
  {
   "cell_type": "markdown",
   "metadata": {},
   "source": []
  },
  {
   "cell_type": "markdown",
   "metadata": {},
   "source": [
    "## 2. Privacy in medical imaging data.\n",
    "\n",
    "The file image.dcm is a Dicom image from a CT scan. You can use a Python library pydicom to load the image."
   ]
  },
  {
   "cell_type": "code",
   "execution_count": null,
   "metadata": {},
   "outputs": [],
   "source": [
    "# Import libaries\n",
    "import pydicom\n",
    "import matplotlib.pyplot as plt"
   ]
  },
  {
   "cell_type": "markdown",
   "metadata": {},
   "source": [
    "### 2.1 Load the show the image."
   ]
  },
  {
   "cell_type": "code",
   "execution_count": null,
   "metadata": {},
   "outputs": [],
   "source": []
  },
  {
   "cell_type": "markdown",
   "metadata": {},
   "source": [
    "### 2.2 Print out the dataset you just read. Does it contain any sensitive information of the patient?"
   ]
  },
  {
   "cell_type": "code",
   "execution_count": null,
   "metadata": {},
   "outputs": [],
   "source": []
  },
  {
   "cell_type": "markdown",
   "metadata": {},
   "source": [
    "### Answer:"
   ]
  },
  {
   "cell_type": "markdown",
   "metadata": {},
   "source": []
  }
 ],
 "metadata": {
  "kernelspec": {
   "display_name": "Python 3",
   "language": "python",
   "name": "python3"
  },
  "language_info": {
   "codemirror_mode": {
    "name": "ipython",
    "version": 3
   },
   "file_extension": ".py",
   "mimetype": "text/x-python",
   "name": "python",
   "nbconvert_exporter": "python",
   "pygments_lexer": "ipython3",
   "version": "3.8.3"
  }
 },
 "nbformat": 4,
 "nbformat_minor": 4
}
