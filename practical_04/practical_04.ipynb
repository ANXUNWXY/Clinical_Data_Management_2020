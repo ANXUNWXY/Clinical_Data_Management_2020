{
 "cells": [
  {
   "cell_type": "markdown",
   "metadata": {},
   "source": [
    "## Practical: Introduction for Python\n",
    "\n",
    "This is a Jupyter notebook, which can contain multiple contents, including text, Python code and output results. In the first part, we expect to you to read and run the code to get familiar with Python. In the second part, you will write your own Python code to implement certain functions.\n",
    "\n",
    "To run the code, either press Shift + Enter or click the triangle ▸ button.\n",
    "\n",
    "Additional reading: https://docs.python.org/3/tutorial/introduction.html\n",
    "\n",
    "### 1. Read and run the code."
   ]
  },
  {
   "cell_type": "code",
   "execution_count": null,
   "metadata": {},
   "outputs": [],
   "source": [
    "# Import libraries\n",
    "import numpy as np\n",
    "import matplotlib.pyplot as plt"
   ]
  },
  {
   "cell_type": "code",
   "execution_count": null,
   "metadata": {},
   "outputs": [],
   "source": [
    "# Print something\n",
    "print('Hello, world!')"
   ]
  },
  {
   "cell_type": "code",
   "execution_count": null,
   "metadata": {},
   "outputs": [],
   "source": [
    "# Add two numbers\n",
    "a = 1\n",
    "b = 1\n",
    "c = a + b\n",
    "print('{0} + {1} = {2}'.format(a, b, c))"
   ]
  },
  {
   "cell_type": "code",
   "execution_count": null,
   "metadata": {},
   "outputs": [],
   "source": [
    "# Data structure: list\n",
    "a = ['spam', 'eggs', 100, 1234, 2*2]\n",
    "\n",
    "# Index a list\n",
    "print(a[0])\n",
    "\n",
    "# Slice a list\n",
    "print(a[:2])\n",
    "print(a[:-1])"
   ]
  },
  {
   "cell_type": "code",
   "execution_count": null,
   "metadata": {},
   "outputs": [],
   "source": [
    "# List comprehension\n",
    "a = [1, 2, 3, 4, 5]\n",
    "b = [x * x for x in a]\n",
    "print('a =', a)\n",
    "print('b =', b)"
   ]
  },
  {
   "cell_type": "code",
   "execution_count": null,
   "metadata": {},
   "outputs": [],
   "source": [
    "# Data structure: dictionary\n",
    "dial_code = {'US': 1,\n",
    "             'AT': 43,\n",
    "             'UK': 44,\n",
    "             'DK': 45}\n",
    "print(dial_code['UK'])"
   ]
  },
  {
   "cell_type": "code",
   "execution_count": null,
   "metadata": {},
   "outputs": [],
   "source": [
    "# if statement\n",
    "x = -1\n",
    "if x < 0:\n",
    "    print('x is negative')\n",
    "else:\n",
    "    print('x is zero or positive')"
   ]
  },
  {
   "cell_type": "code",
   "execution_count": null,
   "metadata": {},
   "outputs": [],
   "source": [
    "# for statement\n",
    "for x in [0, 1, 2, 3]:\n",
    "    print('x =', x)"
   ]
  },
  {
   "cell_type": "code",
   "execution_count": null,
   "metadata": {},
   "outputs": [],
   "source": [
    "# Create a data array using numpy\n",
    "x = np.array([1, 2, 3, 4, 5])\n",
    "print(x)"
   ]
  },
  {
   "cell_type": "code",
   "execution_count": null,
   "metadata": {},
   "outputs": [],
   "source": [
    "# Perform element-wise multiplication\n",
    "y = x * x\n",
    "print(y)"
   ]
  },
  {
   "cell_type": "code",
   "execution_count": null,
   "metadata": {},
   "outputs": [],
   "source": [
    "# Plot a line\n",
    "plt.plot(x, y)"
   ]
  },
  {
   "cell_type": "code",
   "execution_count": null,
   "metadata": {},
   "outputs": [],
   "source": [
    "# Array shape\n",
    "a = np.array([[1, 2, 3, 4],\n",
    "              [5, 6, 7, 8],\n",
    "              [9,10,11,12]])\n",
    "print(a)\n",
    "print('a.shape =', a.shape)"
   ]
  },
  {
   "cell_type": "code",
   "execution_count": null,
   "metadata": {},
   "outputs": [],
   "source": [
    "# Array indexing\n",
    "print(a[0, 0])"
   ]
  },
  {
   "cell_type": "code",
   "execution_count": null,
   "metadata": {},
   "outputs": [],
   "source": [
    "# Array slicing\n",
    "print(a[1, :])"
   ]
  },
  {
   "cell_type": "code",
   "execution_count": null,
   "metadata": {},
   "outputs": [],
   "source": [
    "# Array slicing\n",
    "print(a[1, :2])"
   ]
  },
  {
   "cell_type": "code",
   "execution_count": null,
   "metadata": {},
   "outputs": [],
   "source": [
    "# Matrix multiplication\n",
    "b = np.array([[1],\n",
    "              [1],\n",
    "              [1],\n",
    "              [1]])\n",
    "print(b)\n",
    "print('b.shape =', b.shape)\n",
    "\n",
    "c = np.dot(a, b)\n",
    "print('a * b =', c)"
   ]
  },
  {
   "cell_type": "markdown",
   "metadata": {},
   "source": [
    "### 2. Write your own Python code.\n",
    "\n",
    "#### 2.1 The Fibonacci numbers form a sequence that starts from 0 and 1 and each following number is the sum of the two proceding numbers. That is:\n",
    "\n",
    "$F_0 = 0$\n",
    "\n",
    "$F_1 = 1$\n",
    "\n",
    "$F_n = F_{n-1} + F_{n-2}$\n",
    "\n",
    "The beginning of the sequence is thus:\n",
    "\n",
    "0, 1, 1, 2, 3, 5, 8, 13, 21, 34, 55, 89 ...\n",
    "\n",
    "Please implement a function that returns a Fibonacci sequence up to n."
   ]
  },
  {
   "cell_type": "code",
   "execution_count": null,
   "metadata": {},
   "outputs": [],
   "source": [
    "# Define a function\n",
    "def fib(n):\n",
    "    \"\"\" Return a Fibonacci sequence up to n. \"\"\"\n",
    "    # result is a list   \n",
    "    result = []\n",
    "    \n",
    "    # Add your code\n",
    "    \n",
    "    # Return the result\n",
    "    return result"
   ]
  },
  {
   "cell_type": "code",
   "execution_count": null,
   "metadata": {},
   "outputs": [],
   "source": [
    "# Call the function\n",
    "result = fib(100)\n",
    "print(result)"
   ]
  },
  {
   "cell_type": "markdown",
   "metadata": {},
   "source": [
    "#### 2.2 Plot a rose curve using matplotlib.\n",
    "\n",
    "A rose curve can be expressed using the following equations:\n",
    "\n",
    "$x = |cos(k \\theta)| cos(\\theta)$\n",
    "\n",
    "$y = |cos(k \\theta)| sin(\\theta)$\n",
    "\n",
    "Here $\\theta$ goes from 0 to $2 \\pi$. If $k = 3$, you will get a 6-petal rose plot."
   ]
  },
  {
   "cell_type": "code",
   "execution_count": null,
   "metadata": {},
   "outputs": [],
   "source": [
    "# Add your code\n"
   ]
  }
 ],
 "metadata": {
  "kernelspec": {
   "display_name": "Python 3",
   "language": "python",
   "name": "python3"
  },
  "language_info": {
   "codemirror_mode": {
    "name": "ipython",
    "version": 3
   },
   "file_extension": ".py",
   "mimetype": "text/x-python",
   "name": "python",
   "nbconvert_exporter": "python",
   "pygments_lexer": "ipython3",
   "version": "3.8.3"
  }
 },
 "nbformat": 4,
 "nbformat_minor": 4
}
