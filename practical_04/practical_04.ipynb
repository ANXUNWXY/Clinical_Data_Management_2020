{
 "cells": [
  {
   "cell_type": "markdown",
   "metadata": {},
   "source": [
    "### Introduction for Python\n",
    "\n",
    "This is a Jupyter notebook, which can contain multiple contents, including text, Python code and output results. We expect to you to read and run the code to get familiar with Python.\n",
    "\n",
    "To run the code, either press Shift + Enter or click the triangle ▸ button.\n",
    "\n",
    "Additional reading: https://docs.python.org/3/tutorial/introduction.html"
   ]
  },
  {
   "cell_type": "code",
   "execution_count": null,
   "metadata": {},
   "outputs": [],
   "source": [
    "# Import libraries\n",
    "import numpy as np\n",
    "import matplotlib.pyplot as plt"
   ]
  },
  {
   "cell_type": "code",
   "execution_count": null,
   "metadata": {},
   "outputs": [],
   "source": [
    "# Print something\n",
    "print('Hello, world!')"
   ]
  },
  {
   "cell_type": "code",
   "execution_count": null,
   "metadata": {},
   "outputs": [],
   "source": [
    "# Add two numbers\n",
    "a = 1\n",
    "b = 1\n",
    "c = a + b\n",
    "print('{0} + {1} = {2}'.format(a, b, c))"
   ]
  },
  {
   "cell_type": "code",
   "execution_count": null,
   "metadata": {},
   "outputs": [],
   "source": [
    "# Data structure: list\n",
    "a = ['spam', 'eggs', 100, 1234, 2*2]\n",
    "\n",
    "# Index a list\n",
    "print(a[0])\n",
    "\n",
    "# Slice a list\n",
    "print(a[:2])\n",
    "print(a[:-1])"
   ]
  },
  {
   "cell_type": "code",
   "execution_count": null,
   "metadata": {},
   "outputs": [],
   "source": [
    "# List comprehension\n",
    "a = [1, 2, 3, 4, 5]\n",
    "b = [x * x for x in a]\n",
    "print('a =', a)\n",
    "print('b =', b)"
   ]
  },
  {
   "cell_type": "code",
   "execution_count": null,
   "metadata": {},
   "outputs": [],
   "source": [
    "# Data structure: dictionary\n",
    "dial_code = {'US': 1,\n",
    "             'AT': 43,\n",
    "             'UK': 44,\n",
    "             'DK': 45}\n",
    "print(dial_code['UK'])"
   ]
  },
  {
   "cell_type": "code",
   "execution_count": null,
   "metadata": {},
   "outputs": [],
   "source": [
    "# if statement\n",
    "x = -1\n",
    "if x < 0:\n",
    "    print('x is negative')\n",
    "else:\n",
    "    print('x is zero or positive')"
   ]
  },
  {
   "cell_type": "code",
   "execution_count": null,
   "metadata": {},
   "outputs": [],
   "source": [
    "# for statement\n",
    "for x in [0, 1, 2, 3]:\n",
    "    print('x =', x)"
   ]
  },
  {
   "cell_type": "code",
   "execution_count": null,
   "metadata": {},
   "outputs": [],
   "source": [
    "# Define a function\n",
    "def fib(n):\n",
    "    \"\"\" Return a Fibonacci series up to n. \"\"\"\n",
    "    # result is a list   \n",
    "    result = []\n",
    "    a, b = 0, 1\n",
    "    \n",
    "    # while statement\n",
    "    while a < n:\n",
    "        # Append a to the result list    \n",
    "        result += [a]\n",
    "        # Increment the Fibonacci series\n",
    "        a, b = b, a+b\n",
    "    \n",
    "    # Return the result\n",
    "    return result"
   ]
  },
  {
   "cell_type": "code",
   "execution_count": null,
   "metadata": {},
   "outputs": [],
   "source": [
    "# Call the function\n",
    "result = fib(100)\n",
    "print(result)"
   ]
  },
  {
   "cell_type": "code",
   "execution_count": null,
   "metadata": {},
   "outputs": [],
   "source": [
    "# Create a data array using numpy\n",
    "x = np.array([1, 2, 3, 4, 5])\n",
    "print(x)"
   ]
  },
  {
   "cell_type": "code",
   "execution_count": null,
   "metadata": {},
   "outputs": [],
   "source": [
    "# Perform element-wise multiplication\n",
    "y = x * x\n",
    "print(y)"
   ]
  },
  {
   "cell_type": "code",
   "execution_count": null,
   "metadata": {},
   "outputs": [],
   "source": [
    "# Plot a line\n",
    "plt.plot(x, y)"
   ]
  },
  {
   "cell_type": "code",
   "execution_count": null,
   "metadata": {},
   "outputs": [],
   "source": []
  }
 ],
 "metadata": {
  "kernelspec": {
   "display_name": "Python 3",
   "language": "python",
   "name": "python3"
  },
  "language_info": {
   "codemirror_mode": {
    "name": "ipython",
    "version": 3
   },
   "file_extension": ".py",
   "mimetype": "text/x-python",
   "name": "python",
   "nbconvert_exporter": "python",
   "pygments_lexer": "ipython3",
   "version": "3.8.3"
  }
 },
 "nbformat": 4,
 "nbformat_minor": 4
}
