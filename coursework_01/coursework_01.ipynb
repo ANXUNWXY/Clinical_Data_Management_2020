{
 "cells": [
  {
   "cell_type": "markdown",
   "metadata": {},
   "source": [
    "# Coursework 1: Data visualisation and simple analysis using Python\n",
    "\n",
    "In this coursework, you will deal with a dataset stored in the \".csv\" format, which describes the housing price in Boston. This is a small dataset with only 506 cases. But it would be a good illustration how Python can be used for loading, visualising and analysing a dataset. The dataset was originally published at\n",
    "\n",
    "\\[1\\] Harrison, D. and Rubinfeld, D.L. Hedonic prices and the demand for clean air, J. Environ. Economics & Management, vol.5, 81-102, 1978.\n",
    "\n",
    "We performed minor edits to the dataset to suit this course. \n",
    "\n",
    "## Dataset\n",
    "A copy of the .csv data should already be here if you git clone this repository. The .csv format is a format for spreadsheet, which can be loaded using Python pandas. It can also opened and viewed using Microsoft Excel or Libreoffice.\n",
    "\n",
    "## Dataset description\n",
    "Each row is a case of the housing price. There are 506 cases in total. Each column is an attribute, there are 12 attributes, including:\n",
    "\n",
    "**crime_rate**: per capita crime rate by town\n",
    "\n",
    "**zn**: proportion of residential land zoned for lots over 25,000 sq.ft.\n",
    "\n",
    "**industry**: proportion of non-retail business acres per town\n",
    "\n",
    "**charles**: Charles River dummy variable (1 if tract bounds river; 0 otherwise)\n",
    "\n",
    "**nox**: nitric oxides concentration (parts per 10 million)\n",
    "\n",
    "**room**: average number of rooms per dwelling\n",
    "\n",
    "**age**: proportion of owner-occupied units built prior to 1940\n",
    "\n",
    "**distance**: weighted distances to five Boston employment centres\n",
    "\n",
    "**radial_highway**: index of accessibility to radial highways\n",
    "\n",
    "**tax**: full-value property-tax rate per \\$10,000\n",
    "\n",
    "**pupil_teacher_ratio**: pupil-teacher ratio by town\n",
    "\n",
    "**house_value**: Median value of owner-occupied homes in $1000's\n",
    "\n",
    "## Import libraries\n",
    "The code importing the libraries is already provided, which includes\n",
    "* pandas: a library for loading .csv datasets\n",
    "* numpy: a library for manipulating numbers and arrays\n",
    "* matplotlib: for data visualisation\n",
    "* seaborn: for data visualisation as well\n",
    "* sklearn: for linear regression and machine learing"
   ]
  },
  {
   "cell_type": "code",
   "execution_count": null,
   "metadata": {},
   "outputs": [],
   "source": [
    "import pandas as pd\n",
    "import numpy as np\n",
    "import matplotlib.pyplot as plt\n",
    "import seaborn as sns \n",
    "from sklearn.linear_model import LinearRegression\n",
    "from sklearn.model_selection import train_test_split\n",
    "from sklearn.metrics import mean_squared_error"
   ]
  },
  {
   "cell_type": "markdown",
   "metadata": {},
   "source": [
    "## 1. Load data, print the first few lines, column names and dataframe dimension using pandas (5 points)."
   ]
  },
  {
   "cell_type": "code",
   "execution_count": null,
   "metadata": {},
   "outputs": [],
   "source": []
  },
  {
   "cell_type": "markdown",
   "metadata": {},
   "source": [
    "## 2. Basic statistics (5 points).\n",
    "Print the basic statistics (mean, standard deviation, minimum, maximum) for each of the data columns."
   ]
  },
  {
   "cell_type": "code",
   "execution_count": null,
   "metadata": {},
   "outputs": [],
   "source": []
  },
  {
   "cell_type": "markdown",
   "metadata": {},
   "source": [
    "## 3. Data visualisation.\n",
    "### 3.1 Plot the histogram for each of the data columns (10 points)."
   ]
  },
  {
   "cell_type": "code",
   "execution_count": null,
   "metadata": {},
   "outputs": [],
   "source": []
  },
  {
   "cell_type": "markdown",
   "metadata": {},
   "source": [
    "### 3.2 Plot the correlation matrix between the data columns (10 points)."
   ]
  },
  {
   "cell_type": "code",
   "execution_count": null,
   "metadata": {},
   "outputs": [],
   "source": []
  },
  {
   "cell_type": "markdown",
   "metadata": {},
   "source": [
    "### 3.3 Plot the house value (the last data column) against each feature (each of the first 11 data columns) (10 points)."
   ]
  },
  {
   "cell_type": "code",
   "execution_count": null,
   "metadata": {},
   "outputs": [],
   "source": []
  },
  {
   "cell_type": "markdown",
   "metadata": {},
   "source": [
    "### 3.4 What is the top factor that positively contribute to house value, based on the univariate correlation coefficient? What is the top factor that negatively contributes? (4 points)\n",
    "\n",
    "Note that there are other ways to evaluate the importance of each feature, such as using the coefficients of a multiple linear regression model. Here we only use the univariate correlation coefficient.\n",
    "\n",
    "### Answer:"
   ]
  },
  {
   "cell_type": "markdown",
   "metadata": {},
   "source": []
  },
  {
   "cell_type": "markdown",
   "metadata": {},
   "source": [
    "## 4. Linear regression.\n",
    "### 4.1. Regress the house value against all the features (11 points).\n",
    "\n",
    "We have split the whole dataset for you into a training set and a test set using a pre-defined ratio (80:20 in this case). We use the train_test_split function that has been imported from the sklearn library. The dataset split is provided for consistent evaluation. Please do not change the random_state seed."
   ]
  },
  {
   "cell_type": "code",
   "execution_count": null,
   "metadata": {},
   "outputs": [],
   "source": [
    "X = df.iloc[:, :11]\n",
    "y = df.iloc[:, 11]\n",
    "X_train, X_test, y_train, y_test = train_test_split(X, y, test_size=0.2, random_state=0)"
   ]
  },
  {
   "cell_type": "markdown",
   "metadata": {},
   "source": [
    "### Now fit a linear regression model onto the training set, then visualise the predicted house value using this model against the true house value on the training and test sets."
   ]
  },
  {
   "cell_type": "code",
   "execution_count": null,
   "metadata": {},
   "outputs": [],
   "source": []
  },
  {
   "cell_type": "markdown",
   "metadata": {},
   "source": [
    "### 4.2 Quantitatively evaluate the prediction accuracy of the linear model using the root of mean squared error (RMSE) as a metric. Report the metric for training and test sets (4 points)."
   ]
  },
  {
   "cell_type": "code",
   "execution_count": null,
   "metadata": {},
   "outputs": [],
   "source": []
  },
  {
   "cell_type": "markdown",
   "metadata": {},
   "source": [
    "### 4.3 Suppose that you are interested in a house in the Boston area. You have collected the following information about this house. How much would you estimate the value of this house please? First explain your idea, then implement it.\n",
    "\n",
    "| feature | value |\n",
    "|---|---|\n",
    "| number of rooms | 5 |\n",
    "| distance | 2.5 |\n",
    "| pupil_teacher_ratio | 13.5 |\n",
    "\n",
    "#### Idea (5 points):"
   ]
  },
  {
   "cell_type": "markdown",
   "metadata": {},
   "source": []
  },
  {
   "cell_type": "markdown",
   "metadata": {},
   "source": [
    "#### Implementation (10 points):"
   ]
  },
  {
   "cell_type": "code",
   "execution_count": null,
   "metadata": {},
   "outputs": [],
   "source": []
  },
  {
   "cell_type": "markdown",
   "metadata": {},
   "source": [
    "### 4.4 Open discussion: How can you predict the house value more accurately? (8 points)"
   ]
  },
  {
   "cell_type": "markdown",
   "metadata": {},
   "source": []
  },
  {
   "cell_type": "markdown",
   "metadata": {},
   "source": [
    "### 4.5 Open discussion: How can you estimate the uncertainty for your prediction? (8 points)"
   ]
  },
  {
   "cell_type": "markdown",
   "metadata": {},
   "source": []
  }
 ],
 "metadata": {
  "kernelspec": {
   "display_name": "Python 3",
   "language": "python",
   "name": "python3"
  },
  "language_info": {
   "codemirror_mode": {
    "name": "ipython",
    "version": 3
   },
   "file_extension": ".py",
   "mimetype": "text/x-python",
   "name": "python",
   "nbconvert_exporter": "python",
   "pygments_lexer": "ipython3",
   "version": "3.8.3"
  }
 },
 "nbformat": 4,
 "nbformat_minor": 4
}
